{
 "cells": [
  {
   "cell_type": "markdown",
   "id": "7a0201dc-d35d-4b12-9ce1-868064f571e1",
   "metadata": {},
   "source": [
    "# 01.Importing libraries"
   ]
  },
  {
   "cell_type": "code",
   "execution_count": 64,
   "id": "a51cd7dc-15ef-49ac-bc09-c7b7cfdf6897",
   "metadata": {},
   "outputs": [],
   "source": [
    "# Import libraries\n",
    "import pandas as pd\n",
    "import numpy as np\n",
    "import os"
   ]
  },
  {
   "cell_type": "markdown",
   "id": "5a2df96f-054f-4c27-8fc5-70b24e8f53e2",
   "metadata": {},
   "source": [
    "# 02. Data types"
   ]
  },
  {
   "cell_type": "markdown",
   "id": "baffd950-732b-4045-ac0f-fd75270881d9",
   "metadata": {},
   "source": [
    "### Code 3 different ways of reaching a result of 100 by adding or subtracting numeric variables."
   ]
  },
  {
   "cell_type": "code",
   "execution_count": 70,
   "id": "23d5634e-0a14-45b7-bb8b-1f94b91a1624",
   "metadata": {},
   "outputs": [
    {
     "data": {
      "text/plain": [
       "100"
      ]
     },
     "execution_count": 70,
     "metadata": {},
     "output_type": "execute_result"
    }
   ],
   "source": [
    "x = 50\n",
    "y = 50\n",
    "x + y"
   ]
  },
  {
   "cell_type": "code",
   "execution_count": 72,
   "id": "58c30834-cd36-4328-a6b6-721b66f0da9f",
   "metadata": {},
   "outputs": [
    {
     "data": {
      "text/plain": [
       "100"
      ]
     },
     "execution_count": 72,
     "metadata": {},
     "output_type": "execute_result"
    }
   ],
   "source": [
    "x = 150\n",
    "y = 50\n",
    "x - y"
   ]
  },
  {
   "cell_type": "code",
   "execution_count": 74,
   "id": "1ea8f7ca-9598-4470-bebe-6dacc220db8d",
   "metadata": {},
   "outputs": [
    {
     "data": {
      "text/plain": [
       "100"
      ]
     },
     "execution_count": 74,
     "metadata": {},
     "output_type": "execute_result"
    }
   ],
   "source": [
    "x = 50\n",
    "y = 2\n",
    "x * y"
   ]
  },
  {
   "cell_type": "markdown",
   "id": "c33dc1da-c168-416e-867e-c91de3c37b63",
   "metadata": {},
   "source": [
    "### Code 2 floating-point variables and divide them by each other."
   ]
  },
  {
   "cell_type": "code",
   "execution_count": 76,
   "id": "1ebe9e5d-c335-4b23-8380-d1e9595b6e9e",
   "metadata": {},
   "outputs": [
    {
     "data": {
      "text/plain": [
       "2.2"
      ]
     },
     "execution_count": 76,
     "metadata": {},
     "output_type": "execute_result"
    }
   ],
   "source": [
    "x = 5.50\n",
    "y = 2.5\n",
    "x"
   ]
  },
  {
   "cell_type": "markdown",
   "id": "180c5eaa-a63a-4e6a-9933-319ab90bf20f",
   "metadata": {},
   "source": [
    "### Construct a short word made of separate strings (you’ll need to concatenate some strings!)."
   ]
  },
  {
   "cell_type": "code",
   "execution_count": 90,
   "id": "8f0bba61-8d3b-4ed8-9c94-b27b295c4b2f",
   "metadata": {},
   "outputs": [
    {
     "data": {
      "text/plain": [
       "'Ben Stiller '"
      ]
     },
     "execution_count": 90,
     "metadata": {},
     "output_type": "execute_result"
    }
   ],
   "source": [
    "a = 'Ben '\n",
    "b = 'Stiller '\n",
    "a + b "
   ]
  },
  {
   "cell_type": "markdown",
   "id": "ea8d75c5-f9d8-4312-b763-5344b50cd77a",
   "metadata": {},
   "source": [
    "### Construct 2 short sentences made of separate strings."
   ]
  },
  {
   "cell_type": "code",
   "execution_count": 92,
   "id": "d3f478a7-fa5d-4ddc-bea9-5acc40f7bc24",
   "metadata": {},
   "outputs": [
    {
     "data": {
      "text/plain": [
       "'I love coding'"
      ]
     },
     "execution_count": 92,
     "metadata": {},
     "output_type": "execute_result"
    }
   ],
   "source": [
    "a = 'I '\n",
    "b = 'love '\n",
    "c = 'coding'\n",
    "a + b + c"
   ]
  },
  {
   "cell_type": "code",
   "execution_count": 98,
   "id": "7ea25a35-0fff-4eaa-a138-783d2a8125e5",
   "metadata": {},
   "outputs": [
    {
     "data": {
      "text/plain": [
       "'Ice cream is amazing.'"
      ]
     },
     "execution_count": 98,
     "metadata": {},
     "output_type": "execute_result"
    }
   ],
   "source": [
    "a = 'Ice cream '\n",
    "b = 'is '\n",
    "c = 'amazing.'\n",
    "a + b + c"
   ]
  },
  {
   "cell_type": "markdown",
   "id": "9d53fdf2-8bd6-49f4-9879-126b57aad067",
   "metadata": {},
   "source": [
    "### Bonus"
   ]
  },
  {
   "cell_type": "code",
   "execution_count": 102,
   "id": "35003e27-b329-4f9c-860b-154c94c95f4e",
   "metadata": {},
   "outputs": [
    {
     "data": {
      "text/plain": [
       "'iiiiiiiiiiiiiiiiiiiiiiiiiiiiiiiiiiiiiiiiiiiiiiiiiiiiiiiiiiiiiiiiiiiiiiiiiiiiiiiiiiiiiiiiiiiiiiiiiiii'"
      ]
     },
     "execution_count": 102,
     "metadata": {},
     "output_type": "execute_result"
    }
   ],
   "source": [
    "a = 'i'\n",
    "a * 100"
   ]
  },
  {
   "cell_type": "markdown",
   "id": "f19ac222-40aa-47be-8432-58773727a7cc",
   "metadata": {},
   "source": [
    "# I'm not sure why I am getting this error"
   ]
  },
  {
   "cell_type": "code",
   "execution_count": 104,
   "id": "3ceb4f4d-ec17-414f-b2f9-81944aecce63",
   "metadata": {},
   "outputs": [
    {
     "ename": "TypeError",
     "evalue": "'str' object is not callable",
     "output_type": "error",
     "traceback": [
      "\u001b[1;31m---------------------------------------------------------------------------\u001b[0m",
      "\u001b[1;31mTypeError\u001b[0m                                 Traceback (most recent call last)",
      "Cell \u001b[1;32mIn[104], line 3\u001b[0m\n\u001b[0;32m      1\u001b[0m x \u001b[38;5;241m=\u001b[39m \u001b[38;5;241m4\u001b[39m\n\u001b[0;32m      2\u001b[0m y \u001b[38;5;241m=\u001b[39m \u001b[38;5;241m6\u001b[39m\n\u001b[1;32m----> 3\u001b[0m \u001b[38;5;28mtype\u001b[39m(x\u001b[38;5;241m==\u001b[39my)\n",
      "\u001b[1;31mTypeError\u001b[0m: 'str' object is not callable"
     ]
    }
   ],
   "source": [
    "x = 4\n",
    "y = 6\n",
    "type(x==y)"
   ]
  },
  {
   "cell_type": "code",
   "execution_count": 108,
   "id": "db327a14-a684-4760-ae61-54d0133625c3",
   "metadata": {},
   "outputs": [
    {
     "ename": "TypeError",
     "evalue": "'str' object is not callable",
     "output_type": "error",
     "traceback": [
      "\u001b[1;31m---------------------------------------------------------------------------\u001b[0m",
      "\u001b[1;31mTypeError\u001b[0m                                 Traceback (most recent call last)",
      "Cell \u001b[1;32mIn[108], line 1\u001b[0m\n\u001b[1;32m----> 1\u001b[0m \u001b[38;5;28mtype\u001b[39m(\u001b[38;5;28;01mTrue\u001b[39;00m)\n",
      "\u001b[1;31mTypeError\u001b[0m: 'str' object is not callable"
     ]
    }
   ],
   "source": [
    "type(True)"
   ]
  },
  {
   "cell_type": "code",
   "execution_count": null,
   "id": "605e1e2a-4340-44b2-af5e-9e2766450f5f",
   "metadata": {},
   "outputs": [],
   "source": []
  }
 ],
 "metadata": {
  "kernelspec": {
   "display_name": "Python 3 (ipykernel)",
   "language": "python",
   "name": "python3"
  },
  "language_info": {
   "codemirror_mode": {
    "name": "ipython",
    "version": 3
   },
   "file_extension": ".py",
   "mimetype": "text/x-python",
   "name": "python",
   "nbconvert_exporter": "python",
   "pygments_lexer": "ipython3",
   "version": "3.12.4"
  }
 },
 "nbformat": 4,
 "nbformat_minor": 5
}
