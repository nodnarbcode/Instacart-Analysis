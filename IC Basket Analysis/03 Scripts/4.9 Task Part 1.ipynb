{
 "cells": [
  {
   "cell_type": "code",
   "execution_count": 1,
   "id": "ce9e03d8-6e7a-4270-89eb-9c4e64f285b6",
   "metadata": {},
   "outputs": [],
   "source": [
    "# Importing libraries\n",
    "\n",
    "import pandas as pd\n",
    "import numpy as np\n",
    "import os\n",
    "import matplotlib.pyplot as plt\n",
    "import seaborn as sns\n",
    "import scipy"
   ]
  },
  {
   "cell_type": "code",
   "execution_count": 2,
   "id": "7ee898ae-4f57-41d1-8bc9-d6fb2e92c84d",
   "metadata": {},
   "outputs": [],
   "source": [
    "# Importing data\n",
    "\n",
    "path = r'C:\\Users\\nodnarb\\Documents\\IC Basket Analysis'\n",
    "customers = pd.read_csv(os.path.join(path, '02 Data', 'Original Data', 'customers.csv'))\n",
    "df = pd.read_pickle(os.path.join(path, '02 Data', 'Prepared Data', 'orders_products_merged_w_flags.pkl'))"
   ]
  },
  {
   "cell_type": "markdown",
   "id": "30d80c0e-102d-4462-bb75-790e73aa4a9c",
   "metadata": {},
   "source": [
    "#### Wrangling customers.csv"
   ]
  },
  {
   "cell_type": "code",
   "execution_count": 4,
   "id": "13ab8a19-216a-40ce-9b9b-e1cd22e7ec67",
   "metadata": {},
   "outputs": [
    {
     "data": {
      "text/html": [
       "<div>\n",
       "<style scoped>\n",
       "    .dataframe tbody tr th:only-of-type {\n",
       "        vertical-align: middle;\n",
       "    }\n",
       "\n",
       "    .dataframe tbody tr th {\n",
       "        vertical-align: top;\n",
       "    }\n",
       "\n",
       "    .dataframe thead th {\n",
       "        text-align: right;\n",
       "    }\n",
       "</style>\n",
       "<table border=\"1\" class=\"dataframe\">\n",
       "  <thead>\n",
       "    <tr style=\"text-align: right;\">\n",
       "      <th></th>\n",
       "      <th>user_id</th>\n",
       "      <th>First Name</th>\n",
       "      <th>Surnam</th>\n",
       "      <th>Gender</th>\n",
       "      <th>STATE</th>\n",
       "      <th>Age</th>\n",
       "      <th>date_joined</th>\n",
       "      <th>n_dependants</th>\n",
       "      <th>fam_status</th>\n",
       "      <th>income</th>\n",
       "    </tr>\n",
       "  </thead>\n",
       "  <tbody>\n",
       "    <tr>\n",
       "      <th>0</th>\n",
       "      <td>26711</td>\n",
       "      <td>Deborah</td>\n",
       "      <td>Esquivel</td>\n",
       "      <td>Female</td>\n",
       "      <td>Missouri</td>\n",
       "      <td>48</td>\n",
       "      <td>1/1/2017</td>\n",
       "      <td>3</td>\n",
       "      <td>married</td>\n",
       "      <td>165665</td>\n",
       "    </tr>\n",
       "    <tr>\n",
       "      <th>1</th>\n",
       "      <td>33890</td>\n",
       "      <td>Patricia</td>\n",
       "      <td>Hart</td>\n",
       "      <td>Female</td>\n",
       "      <td>New Mexico</td>\n",
       "      <td>36</td>\n",
       "      <td>1/1/2017</td>\n",
       "      <td>0</td>\n",
       "      <td>single</td>\n",
       "      <td>59285</td>\n",
       "    </tr>\n",
       "    <tr>\n",
       "      <th>2</th>\n",
       "      <td>65803</td>\n",
       "      <td>Kenneth</td>\n",
       "      <td>Farley</td>\n",
       "      <td>Male</td>\n",
       "      <td>Idaho</td>\n",
       "      <td>35</td>\n",
       "      <td>1/1/2017</td>\n",
       "      <td>2</td>\n",
       "      <td>married</td>\n",
       "      <td>99568</td>\n",
       "    </tr>\n",
       "    <tr>\n",
       "      <th>3</th>\n",
       "      <td>125935</td>\n",
       "      <td>Michelle</td>\n",
       "      <td>Hicks</td>\n",
       "      <td>Female</td>\n",
       "      <td>Iowa</td>\n",
       "      <td>40</td>\n",
       "      <td>1/1/2017</td>\n",
       "      <td>0</td>\n",
       "      <td>single</td>\n",
       "      <td>42049</td>\n",
       "    </tr>\n",
       "    <tr>\n",
       "      <th>4</th>\n",
       "      <td>130797</td>\n",
       "      <td>Ann</td>\n",
       "      <td>Gilmore</td>\n",
       "      <td>Female</td>\n",
       "      <td>Maryland</td>\n",
       "      <td>26</td>\n",
       "      <td>1/1/2017</td>\n",
       "      <td>1</td>\n",
       "      <td>married</td>\n",
       "      <td>40374</td>\n",
       "    </tr>\n",
       "  </tbody>\n",
       "</table>\n",
       "</div>"
      ],
      "text/plain": [
       "   user_id First Name    Surnam  Gender       STATE  Age date_joined  \\\n",
       "0    26711    Deborah  Esquivel  Female    Missouri   48    1/1/2017   \n",
       "1    33890   Patricia      Hart  Female  New Mexico   36    1/1/2017   \n",
       "2    65803    Kenneth    Farley    Male       Idaho   35    1/1/2017   \n",
       "3   125935   Michelle     Hicks  Female        Iowa   40    1/1/2017   \n",
       "4   130797        Ann   Gilmore  Female    Maryland   26    1/1/2017   \n",
       "\n",
       "   n_dependants fam_status  income  \n",
       "0             3    married  165665  \n",
       "1             0     single   59285  \n",
       "2             2    married   99568  \n",
       "3             0     single   42049  \n",
       "4             1    married   40374  "
      ]
     },
     "execution_count": 4,
     "metadata": {},
     "output_type": "execute_result"
    }
   ],
   "source": [
    "customers.head()"
   ]
  },
  {
   "cell_type": "code",
   "execution_count": 5,
   "id": "c577db3e-b379-42cd-890f-bdda885b0354",
   "metadata": {},
   "outputs": [
    {
     "data": {
      "text/plain": [
       "(206209, 10)"
      ]
     },
     "execution_count": 5,
     "metadata": {},
     "output_type": "execute_result"
    }
   ],
   "source": [
    "customers.shape"
   ]
  },
  {
   "cell_type": "code",
   "execution_count": 6,
   "id": "da5481ee-98ea-4d11-8204-4d5a0eacffbc",
   "metadata": {},
   "outputs": [],
   "source": [
    "# Renaming columns\n",
    "\n",
    "customers.rename(columns = {'First Name' : 'first_name'}, inplace = True)\n",
    "customers.rename(columns = {'Surnam' : 'last_name'}, inplace = True)\n",
    "customers.rename(columns = {'Gender' : 'gender'}, inplace = True)\n",
    "customers.rename(columns = {'STATE' : 'state'}, inplace = True)\n",
    "customers.rename(columns = {'Age' : 'age'}, inplace = True)"
   ]
  },
  {
   "cell_type": "code",
   "execution_count": 7,
   "id": "d190cc3f-656d-4740-90f4-8a3ec71a4e0e",
   "metadata": {},
   "outputs": [
    {
     "data": {
      "text/html": [
       "<div>\n",
       "<style scoped>\n",
       "    .dataframe tbody tr th:only-of-type {\n",
       "        vertical-align: middle;\n",
       "    }\n",
       "\n",
       "    .dataframe tbody tr th {\n",
       "        vertical-align: top;\n",
       "    }\n",
       "\n",
       "    .dataframe thead th {\n",
       "        text-align: right;\n",
       "    }\n",
       "</style>\n",
       "<table border=\"1\" class=\"dataframe\">\n",
       "  <thead>\n",
       "    <tr style=\"text-align: right;\">\n",
       "      <th></th>\n",
       "      <th>user_id</th>\n",
       "      <th>age</th>\n",
       "      <th>n_dependants</th>\n",
       "      <th>income</th>\n",
       "    </tr>\n",
       "  </thead>\n",
       "  <tbody>\n",
       "    <tr>\n",
       "      <th>count</th>\n",
       "      <td>206209.000000</td>\n",
       "      <td>206209.000000</td>\n",
       "      <td>206209.000000</td>\n",
       "      <td>206209.000000</td>\n",
       "    </tr>\n",
       "    <tr>\n",
       "      <th>mean</th>\n",
       "      <td>103105.000000</td>\n",
       "      <td>49.501646</td>\n",
       "      <td>1.499823</td>\n",
       "      <td>94632.852548</td>\n",
       "    </tr>\n",
       "    <tr>\n",
       "      <th>std</th>\n",
       "      <td>59527.555167</td>\n",
       "      <td>18.480962</td>\n",
       "      <td>1.118433</td>\n",
       "      <td>42473.786988</td>\n",
       "    </tr>\n",
       "    <tr>\n",
       "      <th>min</th>\n",
       "      <td>1.000000</td>\n",
       "      <td>18.000000</td>\n",
       "      <td>0.000000</td>\n",
       "      <td>25903.000000</td>\n",
       "    </tr>\n",
       "    <tr>\n",
       "      <th>25%</th>\n",
       "      <td>51553.000000</td>\n",
       "      <td>33.000000</td>\n",
       "      <td>0.000000</td>\n",
       "      <td>59874.000000</td>\n",
       "    </tr>\n",
       "    <tr>\n",
       "      <th>50%</th>\n",
       "      <td>103105.000000</td>\n",
       "      <td>49.000000</td>\n",
       "      <td>1.000000</td>\n",
       "      <td>93547.000000</td>\n",
       "    </tr>\n",
       "    <tr>\n",
       "      <th>75%</th>\n",
       "      <td>154657.000000</td>\n",
       "      <td>66.000000</td>\n",
       "      <td>3.000000</td>\n",
       "      <td>124244.000000</td>\n",
       "    </tr>\n",
       "    <tr>\n",
       "      <th>max</th>\n",
       "      <td>206209.000000</td>\n",
       "      <td>81.000000</td>\n",
       "      <td>3.000000</td>\n",
       "      <td>593901.000000</td>\n",
       "    </tr>\n",
       "  </tbody>\n",
       "</table>\n",
       "</div>"
      ],
      "text/plain": [
       "             user_id            age   n_dependants         income\n",
       "count  206209.000000  206209.000000  206209.000000  206209.000000\n",
       "mean   103105.000000      49.501646       1.499823   94632.852548\n",
       "std     59527.555167      18.480962       1.118433   42473.786988\n",
       "min         1.000000      18.000000       0.000000   25903.000000\n",
       "25%     51553.000000      33.000000       0.000000   59874.000000\n",
       "50%    103105.000000      49.000000       1.000000   93547.000000\n",
       "75%    154657.000000      66.000000       3.000000  124244.000000\n",
       "max    206209.000000      81.000000       3.000000  593901.000000"
      ]
     },
     "execution_count": 7,
     "metadata": {},
     "output_type": "execute_result"
    }
   ],
   "source": [
    "# Descriptive statistics\n",
    "\n",
    "customers.describe()"
   ]
  },
  {
   "cell_type": "code",
   "execution_count": 8,
   "id": "538be7a1-6a66-4429-aa80-b87cf004fbb9",
   "metadata": {},
   "outputs": [
    {
     "data": {
      "text/plain": [
       "user_id             0\n",
       "first_name      11259\n",
       "last_name           0\n",
       "gender              0\n",
       "state               0\n",
       "age                 0\n",
       "date_joined         0\n",
       "n_dependants        0\n",
       "fam_status          0\n",
       "income              0\n",
       "dtype: int64"
      ]
     },
     "execution_count": 8,
     "metadata": {},
     "output_type": "execute_result"
    }
   ],
   "source": [
    "# Checking for missing values\n",
    "\n",
    "customers.isnull().sum()"
   ]
  },
  {
   "cell_type": "code",
   "execution_count": 9,
   "id": "f0c62bff-5974-46b1-8c6c-b8eccc56066c",
   "metadata": {},
   "outputs": [
    {
     "data": {
      "text/plain": [
       "user_id          int64\n",
       "first_name      object\n",
       "last_name       object\n",
       "gender          object\n",
       "state           object\n",
       "age              int64\n",
       "date_joined     object\n",
       "n_dependants     int64\n",
       "fam_status      object\n",
       "income           int64\n",
       "dtype: object"
      ]
     },
     "execution_count": 9,
     "metadata": {},
     "output_type": "execute_result"
    }
   ],
   "source": [
    "# Data types\n",
    "\n",
    "customers.dtypes"
   ]
  },
  {
   "cell_type": "code",
   "execution_count": 10,
   "id": "3ea4a9ce-78d3-4d33-a258-103a721ddeed",
   "metadata": {},
   "outputs": [],
   "source": [
    "# Changing user_id to string\n",
    "\n",
    "customers['user_id'] = customers['user_id'].astype('str')"
   ]
  },
  {
   "cell_type": "code",
   "execution_count": 11,
   "id": "885fc46b-a600-4976-9246-48ec38d9575b",
   "metadata": {},
   "outputs": [
    {
     "data": {
      "text/plain": [
       "user_id         object\n",
       "first_name      object\n",
       "last_name       object\n",
       "gender          object\n",
       "state           object\n",
       "age              int64\n",
       "date_joined     object\n",
       "n_dependants     int64\n",
       "fam_status      object\n",
       "income           int64\n",
       "dtype: object"
      ]
     },
     "execution_count": 11,
     "metadata": {},
     "output_type": "execute_result"
    }
   ],
   "source": [
    "customers.dtypes"
   ]
  },
  {
   "cell_type": "code",
   "execution_count": 12,
   "id": "590c6fe2-350d-45a3-b8ee-89c50db038fc",
   "metadata": {},
   "outputs": [
    {
     "name": "stdout",
     "output_type": "stream",
     "text": [
      "first_name\n"
     ]
    }
   ],
   "source": [
    "# Checking for mixed data types in each column\n",
    "\n",
    "for col in customers.columns.tolist():\n",
    "    weird = (customers[[col]].map(type) != customers[[col]].iloc[0].apply(type)).any(axis = 1)\n",
    "    if len (customers[weird]) > 0:\n",
    "        print (col)"
   ]
  },
  {
   "cell_type": "code",
   "execution_count": 13,
   "id": "e7e64835-5c3e-4581-be89-0b264a1e7451",
   "metadata": {},
   "outputs": [],
   "source": [
    "# Changing First Name values to string\n",
    "\n",
    "customers['first_name'] = customers['first_name'].astype('str')"
   ]
  },
  {
   "cell_type": "code",
   "execution_count": 14,
   "id": "fbdee8a6-5dba-4578-82ea-94ccc5832d2a",
   "metadata": {},
   "outputs": [],
   "source": [
    "# Recheck mix data types\n",
    "\n",
    "for col in customers.columns.tolist():\n",
    "    weird = (customers[[col]].map(type) != customers[[col]].iloc[0].apply(type)).any(axis = 1)\n",
    "    if len (customers[weird]) > 0:\n",
    "        print (col)"
   ]
  },
  {
   "cell_type": "code",
   "execution_count": 15,
   "id": "ea7e6daf-c393-4790-b971-d915c5c564d1",
   "metadata": {},
   "outputs": [],
   "source": [
    "# No pop up means all data is uniform"
   ]
  },
  {
   "cell_type": "code",
   "execution_count": 16,
   "id": "7bf84511-a1f1-45fe-a4f1-e5e5124ea52e",
   "metadata": {},
   "outputs": [
    {
     "data": {
      "text/plain": [
       "user_id         0\n",
       "first_name      0\n",
       "last_name       0\n",
       "gender          0\n",
       "state           0\n",
       "age             0\n",
       "date_joined     0\n",
       "n_dependants    0\n",
       "fam_status      0\n",
       "income          0\n",
       "dtype: int64"
      ]
     },
     "execution_count": 16,
     "metadata": {},
     "output_type": "execute_result"
    }
   ],
   "source": [
    "# Checking for missing values\n",
    "\n",
    "customers.isnull().sum()"
   ]
  },
  {
   "cell_type": "code",
   "execution_count": 17,
   "id": "3680d968-92ac-448c-aa44-c030f81ed521",
   "metadata": {},
   "outputs": [],
   "source": [
    "# Checking for duplicates\n",
    "\n",
    "customers_dup = customers[customers.duplicated()]"
   ]
  },
  {
   "cell_type": "code",
   "execution_count": 18,
   "id": "3e08bdb4-f715-4dc4-b385-d9263c676596",
   "metadata": {},
   "outputs": [
    {
     "data": {
      "text/html": [
       "<div>\n",
       "<style scoped>\n",
       "    .dataframe tbody tr th:only-of-type {\n",
       "        vertical-align: middle;\n",
       "    }\n",
       "\n",
       "    .dataframe tbody tr th {\n",
       "        vertical-align: top;\n",
       "    }\n",
       "\n",
       "    .dataframe thead th {\n",
       "        text-align: right;\n",
       "    }\n",
       "</style>\n",
       "<table border=\"1\" class=\"dataframe\">\n",
       "  <thead>\n",
       "    <tr style=\"text-align: right;\">\n",
       "      <th></th>\n",
       "      <th>user_id</th>\n",
       "      <th>first_name</th>\n",
       "      <th>last_name</th>\n",
       "      <th>gender</th>\n",
       "      <th>state</th>\n",
       "      <th>age</th>\n",
       "      <th>date_joined</th>\n",
       "      <th>n_dependants</th>\n",
       "      <th>fam_status</th>\n",
       "      <th>income</th>\n",
       "    </tr>\n",
       "  </thead>\n",
       "  <tbody>\n",
       "  </tbody>\n",
       "</table>\n",
       "</div>"
      ],
      "text/plain": [
       "Empty DataFrame\n",
       "Columns: [user_id, first_name, last_name, gender, state, age, date_joined, n_dependants, fam_status, income]\n",
       "Index: []"
      ]
     },
     "execution_count": 18,
     "metadata": {},
     "output_type": "execute_result"
    }
   ],
   "source": [
    "customers_dup"
   ]
  },
  {
   "cell_type": "code",
   "execution_count": 19,
   "id": "835b3637-c98f-483b-95b7-7ccbb11b16d4",
   "metadata": {},
   "outputs": [],
   "source": [
    "# No duplicates"
   ]
  },
  {
   "cell_type": "code",
   "execution_count": 20,
   "id": "27db7c63-bacd-4787-8b15-574ac331000c",
   "metadata": {},
   "outputs": [],
   "source": [
    "# Exporting cleaned customers data\n",
    "\n",
    "customers.to_csv(os.path.join(path, '02 Data', 'Prepared Data', 'customers_cleaned.csv'))"
   ]
  },
  {
   "cell_type": "markdown",
   "id": "79288652-a8bd-40c2-8566-47b0c7d167c7",
   "metadata": {},
   "source": [
    "#### Merging customers with main dataset"
   ]
  },
  {
   "cell_type": "code",
   "execution_count": 22,
   "id": "2cf2a480-e05a-4951-a742-e3f23e3ddb2a",
   "metadata": {
    "scrolled": true
   },
   "outputs": [
    {
     "data": {
      "text/html": [
       "<div>\n",
       "<style scoped>\n",
       "    .dataframe tbody tr th:only-of-type {\n",
       "        vertical-align: middle;\n",
       "    }\n",
       "\n",
       "    .dataframe tbody tr th {\n",
       "        vertical-align: top;\n",
       "    }\n",
       "\n",
       "    .dataframe thead th {\n",
       "        text-align: right;\n",
       "    }\n",
       "</style>\n",
       "<table border=\"1\" class=\"dataframe\">\n",
       "  <thead>\n",
       "    <tr style=\"text-align: right;\">\n",
       "      <th></th>\n",
       "      <th>order_id</th>\n",
       "      <th>user_id</th>\n",
       "      <th>order_number</th>\n",
       "      <th>orders_day_of_week</th>\n",
       "      <th>order_time</th>\n",
       "      <th>days_since_prior_order</th>\n",
       "      <th>product_id</th>\n",
       "      <th>add_to_cart_order</th>\n",
       "      <th>reordered</th>\n",
       "      <th>product_name</th>\n",
       "      <th>...</th>\n",
       "      <th>_merge</th>\n",
       "      <th>price_range_loc</th>\n",
       "      <th>busiest_day</th>\n",
       "      <th>busiest_times</th>\n",
       "      <th>max_orders</th>\n",
       "      <th>loyalty_flag</th>\n",
       "      <th>average_spending</th>\n",
       "      <th>spending_flag</th>\n",
       "      <th>median_days_of_prior_order</th>\n",
       "      <th>frequency_flag</th>\n",
       "    </tr>\n",
       "  </thead>\n",
       "  <tbody>\n",
       "    <tr>\n",
       "      <th>0</th>\n",
       "      <td>2539329</td>\n",
       "      <td>1</td>\n",
       "      <td>1</td>\n",
       "      <td>2</td>\n",
       "      <td>8</td>\n",
       "      <td>0.0</td>\n",
       "      <td>196</td>\n",
       "      <td>1</td>\n",
       "      <td>0</td>\n",
       "      <td>Soda</td>\n",
       "      <td>...</td>\n",
       "      <td>both</td>\n",
       "      <td>Mid-range product</td>\n",
       "      <td>Regularly busy</td>\n",
       "      <td>Average orders</td>\n",
       "      <td>10</td>\n",
       "      <td>New customer</td>\n",
       "      <td>6.367797</td>\n",
       "      <td>Low spender</td>\n",
       "      <td>20.0</td>\n",
       "      <td>Regular customer</td>\n",
       "    </tr>\n",
       "    <tr>\n",
       "      <th>1</th>\n",
       "      <td>2539329</td>\n",
       "      <td>1</td>\n",
       "      <td>1</td>\n",
       "      <td>2</td>\n",
       "      <td>8</td>\n",
       "      <td>0.0</td>\n",
       "      <td>14084</td>\n",
       "      <td>2</td>\n",
       "      <td>0</td>\n",
       "      <td>Organic Unsweetened Vanilla Almond Milk</td>\n",
       "      <td>...</td>\n",
       "      <td>both</td>\n",
       "      <td>Mid-range product</td>\n",
       "      <td>Regularly busy</td>\n",
       "      <td>Average orders</td>\n",
       "      <td>10</td>\n",
       "      <td>New customer</td>\n",
       "      <td>6.367797</td>\n",
       "      <td>Low spender</td>\n",
       "      <td>20.0</td>\n",
       "      <td>Regular customer</td>\n",
       "    </tr>\n",
       "    <tr>\n",
       "      <th>2</th>\n",
       "      <td>2539329</td>\n",
       "      <td>1</td>\n",
       "      <td>1</td>\n",
       "      <td>2</td>\n",
       "      <td>8</td>\n",
       "      <td>0.0</td>\n",
       "      <td>12427</td>\n",
       "      <td>3</td>\n",
       "      <td>0</td>\n",
       "      <td>Original Beef Jerky</td>\n",
       "      <td>...</td>\n",
       "      <td>both</td>\n",
       "      <td>Low-range product</td>\n",
       "      <td>Regularly busy</td>\n",
       "      <td>Average orders</td>\n",
       "      <td>10</td>\n",
       "      <td>New customer</td>\n",
       "      <td>6.367797</td>\n",
       "      <td>Low spender</td>\n",
       "      <td>20.0</td>\n",
       "      <td>Regular customer</td>\n",
       "    </tr>\n",
       "    <tr>\n",
       "      <th>3</th>\n",
       "      <td>2539329</td>\n",
       "      <td>1</td>\n",
       "      <td>1</td>\n",
       "      <td>2</td>\n",
       "      <td>8</td>\n",
       "      <td>0.0</td>\n",
       "      <td>26088</td>\n",
       "      <td>4</td>\n",
       "      <td>0</td>\n",
       "      <td>Aged White Cheddar Popcorn</td>\n",
       "      <td>...</td>\n",
       "      <td>both</td>\n",
       "      <td>Low-range product</td>\n",
       "      <td>Regularly busy</td>\n",
       "      <td>Average orders</td>\n",
       "      <td>10</td>\n",
       "      <td>New customer</td>\n",
       "      <td>6.367797</td>\n",
       "      <td>Low spender</td>\n",
       "      <td>20.0</td>\n",
       "      <td>Regular customer</td>\n",
       "    </tr>\n",
       "    <tr>\n",
       "      <th>4</th>\n",
       "      <td>2539329</td>\n",
       "      <td>1</td>\n",
       "      <td>1</td>\n",
       "      <td>2</td>\n",
       "      <td>8</td>\n",
       "      <td>0.0</td>\n",
       "      <td>26405</td>\n",
       "      <td>5</td>\n",
       "      <td>0</td>\n",
       "      <td>XL Pick-A-Size Paper Towel Rolls</td>\n",
       "      <td>...</td>\n",
       "      <td>both</td>\n",
       "      <td>Low-range product</td>\n",
       "      <td>Regularly busy</td>\n",
       "      <td>Average orders</td>\n",
       "      <td>10</td>\n",
       "      <td>New customer</td>\n",
       "      <td>6.367797</td>\n",
       "      <td>Low spender</td>\n",
       "      <td>20.0</td>\n",
       "      <td>Regular customer</td>\n",
       "    </tr>\n",
       "  </tbody>\n",
       "</table>\n",
       "<p>5 rows × 23 columns</p>\n",
       "</div>"
      ],
      "text/plain": [
       "   order_id  user_id  order_number  orders_day_of_week  order_time  \\\n",
       "0   2539329        1             1                   2           8   \n",
       "1   2539329        1             1                   2           8   \n",
       "2   2539329        1             1                   2           8   \n",
       "3   2539329        1             1                   2           8   \n",
       "4   2539329        1             1                   2           8   \n",
       "\n",
       "   days_since_prior_order  product_id  add_to_cart_order  reordered  \\\n",
       "0                     0.0         196                  1          0   \n",
       "1                     0.0       14084                  2          0   \n",
       "2                     0.0       12427                  3          0   \n",
       "3                     0.0       26088                  4          0   \n",
       "4                     0.0       26405                  5          0   \n",
       "\n",
       "                              product_name  ...  _merge    price_range_loc  \\\n",
       "0                                     Soda  ...    both  Mid-range product   \n",
       "1  Organic Unsweetened Vanilla Almond Milk  ...    both  Mid-range product   \n",
       "2                      Original Beef Jerky  ...    both  Low-range product   \n",
       "3               Aged White Cheddar Popcorn  ...    both  Low-range product   \n",
       "4         XL Pick-A-Size Paper Towel Rolls  ...    both  Low-range product   \n",
       "\n",
       "      busiest_day   busiest_times max_orders  loyalty_flag average_spending  \\\n",
       "0  Regularly busy  Average orders         10  New customer         6.367797   \n",
       "1  Regularly busy  Average orders         10  New customer         6.367797   \n",
       "2  Regularly busy  Average orders         10  New customer         6.367797   \n",
       "3  Regularly busy  Average orders         10  New customer         6.367797   \n",
       "4  Regularly busy  Average orders         10  New customer         6.367797   \n",
       "\n",
       "   spending_flag median_days_of_prior_order    frequency_flag  \n",
       "0    Low spender                       20.0  Regular customer  \n",
       "1    Low spender                       20.0  Regular customer  \n",
       "2    Low spender                       20.0  Regular customer  \n",
       "3    Low spender                       20.0  Regular customer  \n",
       "4    Low spender                       20.0  Regular customer  \n",
       "\n",
       "[5 rows x 23 columns]"
      ]
     },
     "execution_count": 22,
     "metadata": {},
     "output_type": "execute_result"
    }
   ],
   "source": [
    "# Main dataset\n",
    "\n",
    "df.head()"
   ]
  },
  {
   "cell_type": "code",
   "execution_count": 23,
   "id": "304b094d-ef82-4079-81b8-d15baae07f8f",
   "metadata": {},
   "outputs": [
    {
     "data": {
      "text/plain": [
       "(32404859, 23)"
      ]
     },
     "execution_count": 23,
     "metadata": {},
     "output_type": "execute_result"
    }
   ],
   "source": [
    "df.shape"
   ]
  },
  {
   "cell_type": "code",
   "execution_count": 24,
   "id": "562c7957-6f41-4fb1-99df-9a5178544173",
   "metadata": {},
   "outputs": [
    {
     "data": {
      "text/plain": [
       "order_id                         int64\n",
       "user_id                          int64\n",
       "order_number                     int64\n",
       "orders_day_of_week               int64\n",
       "order_time                       int64\n",
       "days_since_prior_order         float64\n",
       "product_id                       int64\n",
       "add_to_cart_order                int64\n",
       "reordered                        int64\n",
       "product_name                    object\n",
       "aisle_id                         int64\n",
       "department_id                    int64\n",
       "prices                         float64\n",
       "_merge                        category\n",
       "price_range_loc                 object\n",
       "busiest_day                     object\n",
       "busiest_times                   object\n",
       "max_orders                       int64\n",
       "loyalty_flag                    object\n",
       "average_spending               float64\n",
       "spending_flag                   object\n",
       "median_days_of_prior_order     float64\n",
       "frequency_flag                  object\n",
       "dtype: object"
      ]
     },
     "execution_count": 24,
     "metadata": {},
     "output_type": "execute_result"
    }
   ],
   "source": [
    "df.dtypes"
   ]
  },
  {
   "cell_type": "code",
   "execution_count": 25,
   "id": "e42f5c59-3378-4ca6-ac99-5a2ac77ec771",
   "metadata": {},
   "outputs": [],
   "source": [
    "# Main dataset cleanup \n",
    "\n",
    "df = df.drop(columns = ['_merge'])"
   ]
  },
  {
   "cell_type": "code",
   "execution_count": 26,
   "id": "d8a7da8d-809c-431c-8e5a-548849db74b4",
   "metadata": {},
   "outputs": [],
   "source": [
    "# Convert main dataset user id to string type\n",
    "\n",
    "df['user_id'] = df['user_id'].astype('str')"
   ]
  },
  {
   "cell_type": "code",
   "execution_count": 27,
   "id": "1a58c5e4-dead-499b-aa9b-6e3c18314173",
   "metadata": {},
   "outputs": [],
   "source": [
    "# Common variable for merge = user_id\n",
    "\n",
    "df_customers_merge = df.merge(customers, on = ['user_id'], indicator = True)"
   ]
  },
  {
   "cell_type": "code",
   "execution_count": 28,
   "id": "69ffa24d-e1a7-4518-95ff-4945650edc4b",
   "metadata": {},
   "outputs": [
    {
     "data": {
      "text/html": [
       "<div>\n",
       "<style scoped>\n",
       "    .dataframe tbody tr th:only-of-type {\n",
       "        vertical-align: middle;\n",
       "    }\n",
       "\n",
       "    .dataframe tbody tr th {\n",
       "        vertical-align: top;\n",
       "    }\n",
       "\n",
       "    .dataframe thead th {\n",
       "        text-align: right;\n",
       "    }\n",
       "</style>\n",
       "<table border=\"1\" class=\"dataframe\">\n",
       "  <thead>\n",
       "    <tr style=\"text-align: right;\">\n",
       "      <th></th>\n",
       "      <th>order_id</th>\n",
       "      <th>user_id</th>\n",
       "      <th>order_number</th>\n",
       "      <th>orders_day_of_week</th>\n",
       "      <th>order_time</th>\n",
       "      <th>days_since_prior_order</th>\n",
       "      <th>product_id</th>\n",
       "      <th>add_to_cart_order</th>\n",
       "      <th>reordered</th>\n",
       "      <th>product_name</th>\n",
       "      <th>...</th>\n",
       "      <th>first_name</th>\n",
       "      <th>last_name</th>\n",
       "      <th>gender</th>\n",
       "      <th>state</th>\n",
       "      <th>age</th>\n",
       "      <th>date_joined</th>\n",
       "      <th>n_dependants</th>\n",
       "      <th>fam_status</th>\n",
       "      <th>income</th>\n",
       "      <th>_merge</th>\n",
       "    </tr>\n",
       "  </thead>\n",
       "  <tbody>\n",
       "    <tr>\n",
       "      <th>0</th>\n",
       "      <td>2539329</td>\n",
       "      <td>1</td>\n",
       "      <td>1</td>\n",
       "      <td>2</td>\n",
       "      <td>8</td>\n",
       "      <td>0.0</td>\n",
       "      <td>196</td>\n",
       "      <td>1</td>\n",
       "      <td>0</td>\n",
       "      <td>Soda</td>\n",
       "      <td>...</td>\n",
       "      <td>Linda</td>\n",
       "      <td>Nguyen</td>\n",
       "      <td>Female</td>\n",
       "      <td>Alabama</td>\n",
       "      <td>31</td>\n",
       "      <td>2/17/2019</td>\n",
       "      <td>3</td>\n",
       "      <td>married</td>\n",
       "      <td>40423</td>\n",
       "      <td>both</td>\n",
       "    </tr>\n",
       "    <tr>\n",
       "      <th>1</th>\n",
       "      <td>2539329</td>\n",
       "      <td>1</td>\n",
       "      <td>1</td>\n",
       "      <td>2</td>\n",
       "      <td>8</td>\n",
       "      <td>0.0</td>\n",
       "      <td>14084</td>\n",
       "      <td>2</td>\n",
       "      <td>0</td>\n",
       "      <td>Organic Unsweetened Vanilla Almond Milk</td>\n",
       "      <td>...</td>\n",
       "      <td>Linda</td>\n",
       "      <td>Nguyen</td>\n",
       "      <td>Female</td>\n",
       "      <td>Alabama</td>\n",
       "      <td>31</td>\n",
       "      <td>2/17/2019</td>\n",
       "      <td>3</td>\n",
       "      <td>married</td>\n",
       "      <td>40423</td>\n",
       "      <td>both</td>\n",
       "    </tr>\n",
       "    <tr>\n",
       "      <th>2</th>\n",
       "      <td>2539329</td>\n",
       "      <td>1</td>\n",
       "      <td>1</td>\n",
       "      <td>2</td>\n",
       "      <td>8</td>\n",
       "      <td>0.0</td>\n",
       "      <td>12427</td>\n",
       "      <td>3</td>\n",
       "      <td>0</td>\n",
       "      <td>Original Beef Jerky</td>\n",
       "      <td>...</td>\n",
       "      <td>Linda</td>\n",
       "      <td>Nguyen</td>\n",
       "      <td>Female</td>\n",
       "      <td>Alabama</td>\n",
       "      <td>31</td>\n",
       "      <td>2/17/2019</td>\n",
       "      <td>3</td>\n",
       "      <td>married</td>\n",
       "      <td>40423</td>\n",
       "      <td>both</td>\n",
       "    </tr>\n",
       "    <tr>\n",
       "      <th>3</th>\n",
       "      <td>2539329</td>\n",
       "      <td>1</td>\n",
       "      <td>1</td>\n",
       "      <td>2</td>\n",
       "      <td>8</td>\n",
       "      <td>0.0</td>\n",
       "      <td>26088</td>\n",
       "      <td>4</td>\n",
       "      <td>0</td>\n",
       "      <td>Aged White Cheddar Popcorn</td>\n",
       "      <td>...</td>\n",
       "      <td>Linda</td>\n",
       "      <td>Nguyen</td>\n",
       "      <td>Female</td>\n",
       "      <td>Alabama</td>\n",
       "      <td>31</td>\n",
       "      <td>2/17/2019</td>\n",
       "      <td>3</td>\n",
       "      <td>married</td>\n",
       "      <td>40423</td>\n",
       "      <td>both</td>\n",
       "    </tr>\n",
       "    <tr>\n",
       "      <th>4</th>\n",
       "      <td>2539329</td>\n",
       "      <td>1</td>\n",
       "      <td>1</td>\n",
       "      <td>2</td>\n",
       "      <td>8</td>\n",
       "      <td>0.0</td>\n",
       "      <td>26405</td>\n",
       "      <td>5</td>\n",
       "      <td>0</td>\n",
       "      <td>XL Pick-A-Size Paper Towel Rolls</td>\n",
       "      <td>...</td>\n",
       "      <td>Linda</td>\n",
       "      <td>Nguyen</td>\n",
       "      <td>Female</td>\n",
       "      <td>Alabama</td>\n",
       "      <td>31</td>\n",
       "      <td>2/17/2019</td>\n",
       "      <td>3</td>\n",
       "      <td>married</td>\n",
       "      <td>40423</td>\n",
       "      <td>both</td>\n",
       "    </tr>\n",
       "  </tbody>\n",
       "</table>\n",
       "<p>5 rows × 32 columns</p>\n",
       "</div>"
      ],
      "text/plain": [
       "   order_id user_id  order_number  orders_day_of_week  order_time  \\\n",
       "0   2539329       1             1                   2           8   \n",
       "1   2539329       1             1                   2           8   \n",
       "2   2539329       1             1                   2           8   \n",
       "3   2539329       1             1                   2           8   \n",
       "4   2539329       1             1                   2           8   \n",
       "\n",
       "   days_since_prior_order  product_id  add_to_cart_order  reordered  \\\n",
       "0                     0.0         196                  1          0   \n",
       "1                     0.0       14084                  2          0   \n",
       "2                     0.0       12427                  3          0   \n",
       "3                     0.0       26088                  4          0   \n",
       "4                     0.0       26405                  5          0   \n",
       "\n",
       "                              product_name  ...  first_name  last_name  \\\n",
       "0                                     Soda  ...       Linda     Nguyen   \n",
       "1  Organic Unsweetened Vanilla Almond Milk  ...       Linda     Nguyen   \n",
       "2                      Original Beef Jerky  ...       Linda     Nguyen   \n",
       "3               Aged White Cheddar Popcorn  ...       Linda     Nguyen   \n",
       "4         XL Pick-A-Size Paper Towel Rolls  ...       Linda     Nguyen   \n",
       "\n",
       "   gender    state age date_joined  n_dependants fam_status  income _merge  \n",
       "0  Female  Alabama  31   2/17/2019             3    married   40423   both  \n",
       "1  Female  Alabama  31   2/17/2019             3    married   40423   both  \n",
       "2  Female  Alabama  31   2/17/2019             3    married   40423   both  \n",
       "3  Female  Alabama  31   2/17/2019             3    married   40423   both  \n",
       "4  Female  Alabama  31   2/17/2019             3    married   40423   both  \n",
       "\n",
       "[5 rows x 32 columns]"
      ]
     },
     "execution_count": 28,
     "metadata": {},
     "output_type": "execute_result"
    }
   ],
   "source": [
    "df_customers_merge.head()"
   ]
  },
  {
   "cell_type": "code",
   "execution_count": 29,
   "id": "bce7716a-d8b7-426d-9ad3-df2bed06a71b",
   "metadata": {},
   "outputs": [
    {
     "data": {
      "text/plain": [
       "order_id                         int64\n",
       "user_id                         object\n",
       "order_number                     int64\n",
       "orders_day_of_week               int64\n",
       "order_time                       int64\n",
       "days_since_prior_order         float64\n",
       "product_id                       int64\n",
       "add_to_cart_order                int64\n",
       "reordered                        int64\n",
       "product_name                    object\n",
       "aisle_id                         int64\n",
       "department_id                    int64\n",
       "prices                         float64\n",
       "price_range_loc                 object\n",
       "busiest_day                     object\n",
       "busiest_times                   object\n",
       "max_orders                       int64\n",
       "loyalty_flag                    object\n",
       "average_spending               float64\n",
       "spending_flag                   object\n",
       "median_days_of_prior_order     float64\n",
       "frequency_flag                  object\n",
       "first_name                      object\n",
       "last_name                       object\n",
       "gender                          object\n",
       "state                           object\n",
       "age                              int64\n",
       "date_joined                     object\n",
       "n_dependants                     int64\n",
       "fam_status                      object\n",
       "income                           int64\n",
       "_merge                        category\n",
       "dtype: object"
      ]
     },
     "execution_count": 29,
     "metadata": {},
     "output_type": "execute_result"
    }
   ],
   "source": [
    "# Checking data types of new dataset\n",
    "\n",
    "df_customers_merge.dtypes"
   ]
  },
  {
   "cell_type": "code",
   "execution_count": 30,
   "id": "a5709c8c-53e9-4976-b172-59fdfb3588bb",
   "metadata": {},
   "outputs": [
    {
     "data": {
      "text/plain": [
       "(32404859, 32)"
      ]
     },
     "execution_count": 30,
     "metadata": {},
     "output_type": "execute_result"
    }
   ],
   "source": [
    "# Checking shape \n",
    "\n",
    "df_customers_merge.shape"
   ]
  },
  {
   "cell_type": "code",
   "execution_count": 31,
   "id": "9a38b940-e4d3-436d-a4e0-2ebeb407d761",
   "metadata": {},
   "outputs": [],
   "source": [
    "# Remvoing new merge column\n",
    "\n",
    "df_customers_merge = df_customers_merge.drop(columns = ['_merge'])"
   ]
  },
  {
   "cell_type": "markdown",
   "id": "b82385c1-a223-450c-b9af-1dbdf215106c",
   "metadata": {},
   "source": [
    "#### Exporting data"
   ]
  },
  {
   "cell_type": "code",
   "execution_count": 33,
   "id": "14cc97a5-9205-450e-939e-c9f1a8d6f825",
   "metadata": {},
   "outputs": [],
   "source": [
    "df_customers_merge.to_pickle(os.path.join(path, '02 Data', 'Prepared Data', 'orders_products_customers.pkl'))"
   ]
  }
 ],
 "metadata": {
  "kernelspec": {
   "display_name": "Python 3 (ipykernel)",
   "language": "python",
   "name": "python3"
  },
  "language_info": {
   "codemirror_mode": {
    "name": "ipython",
    "version": 3
   },
   "file_extension": ".py",
   "mimetype": "text/x-python",
   "name": "python",
   "nbconvert_exporter": "python",
   "pygments_lexer": "ipython3",
   "version": "3.12.4"
  }
 },
 "nbformat": 4,
 "nbformat_minor": 5
}
